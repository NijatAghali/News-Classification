{
 "cells": [
  {
   "cell_type": "markdown",
   "id": "9757dcc0",
   "metadata": {},
   "source": [
    "# 1. Load dataset"
   ]
  },
  {
   "cell_type": "code",
   "execution_count": 1,
   "id": "78a8cfde",
   "metadata": {},
   "outputs": [],
   "source": [
    "import numpy as np\n",
    "import pandas as pd\n",
    "from warnings import filterwarnings\n",
    "filterwarnings('ignore')\n",
    "import missingno as msno\n",
    "\n",
    "from sklearn.model_selection import train_test_split"
   ]
  },
  {
   "cell_type": "code",
   "execution_count": 2,
   "id": "f0ba85dc",
   "metadata": {},
   "outputs": [
    {
     "data": {
      "text/html": [
       "<div>\n",
       "<style scoped>\n",
       "    .dataframe tbody tr th:only-of-type {\n",
       "        vertical-align: middle;\n",
       "    }\n",
       "\n",
       "    .dataframe tbody tr th {\n",
       "        vertical-align: top;\n",
       "    }\n",
       "\n",
       "    .dataframe thead th {\n",
       "        text-align: right;\n",
       "    }\n",
       "</style>\n",
       "<table border=\"1\" class=\"dataframe\">\n",
       "  <thead>\n",
       "    <tr style=\"text-align: right;\">\n",
       "      <th></th>\n",
       "      <th>Category</th>\n",
       "      <th>Title</th>\n",
       "      <th>News_Article</th>\n",
       "    </tr>\n",
       "  </thead>\n",
       "  <tbody>\n",
       "    <tr>\n",
       "      <th>0</th>\n",
       "      <td>Maraqlı</td>\n",
       "      <td>Naviforce Sport Saat 2016 ilə zövqlərin ahəngi</td>\n",
       "      <td>Naviforce Sport Saat 2016 Yapon Mexanizmi Yapo...</td>\n",
       "    </tr>\n",
       "    <tr>\n",
       "      <th>1</th>\n",
       "      <td>Maraqlı</td>\n",
       "      <td>Sinir ,oynaq , sinir bel ağrılarına 3 gündə son !</td>\n",
       "      <td>ŞOK ! ŞOK ! ŞOK ! Xanımlar və bəylər , bel və ...</td>\n",
       "    </tr>\n",
       "    <tr>\n",
       "      <th>2</th>\n",
       "      <td>Maraqlı</td>\n",
       "      <td>Dəyərindən qat-qat aşağı qiymətə Mənzil</td>\n",
       "      <td>Dəyərindən qat-qat Aşağı Qiymətə. Həzi Aslanov...</td>\n",
       "    </tr>\n",
       "    <tr>\n",
       "      <th>3</th>\n",
       "      <td>İdman</td>\n",
       "      <td>2024 və 2028-ci il olimpiadalarının keçiriləcə...</td>\n",
       "      <td>2028-ci il Yay Olimpiya və Paralimpiya Oyunla...</td>\n",
       "    </tr>\n",
       "    <tr>\n",
       "      <th>4</th>\n",
       "      <td>Dünya</td>\n",
       "      <td>Türkiyədə zəlzələ</td>\n",
       "      <td>Türkiyədə daha bir zəlzələ meydana gəlib.   L...</td>\n",
       "    </tr>\n",
       "  </tbody>\n",
       "</table>\n",
       "</div>"
      ],
      "text/plain": [
       "  Category                                              Title  \\\n",
       "0  Maraqlı     Naviforce Sport Saat 2016 ilə zövqlərin ahəngi   \n",
       "1  Maraqlı  Sinir ,oynaq , sinir bel ağrılarına 3 gündə son !   \n",
       "2  Maraqlı            Dəyərindən qat-qat aşağı qiymətə Mənzil   \n",
       "3    İdman  2024 və 2028-ci il olimpiadalarının keçiriləcə...   \n",
       "4    Dünya                                 Türkiyədə zəlzələ    \n",
       "\n",
       "                                        News_Article  \n",
       "0  Naviforce Sport Saat 2016 Yapon Mexanizmi Yapo...  \n",
       "1  ŞOK ! ŞOK ! ŞOK ! Xanımlar və bəylər , bel və ...  \n",
       "2  Dəyərindən qat-qat Aşağı Qiymətə. Həzi Aslanov...  \n",
       "3   2028-ci il Yay Olimpiya və Paralimpiya Oyunla...  \n",
       "4   Türkiyədə daha bir zəlzələ meydana gəlib.   L...  "
      ]
     },
     "execution_count": 2,
     "metadata": {},
     "output_type": "execute_result"
    }
   ],
   "source": [
    "df = pd.read_excel(\"news.xlsx\")\n",
    "df.head()"
   ]
  },
  {
   "cell_type": "code",
   "execution_count": 3,
   "id": "4b0293e7",
   "metadata": {
    "scrolled": true
   },
   "outputs": [
    {
     "data": {
      "text/plain": [
       "array(['Maraqlı', 'İdman', 'Dünya', 'Siyasət', 'İqtisadiyyat',\n",
       "       'Mədəniyyət'], dtype=object)"
      ]
     },
     "execution_count": 3,
     "metadata": {},
     "output_type": "execute_result"
    }
   ],
   "source": [
    "df[\"Category\"].unique()"
   ]
  },
  {
   "cell_type": "code",
   "execution_count": 4,
   "id": "0c0131bf",
   "metadata": {},
   "outputs": [],
   "source": [
    "from io import StringIO\n",
    "df['category_id'] = df['Category'].factorize()[0]\n",
    "category_id_df = df[['Category', 'category_id']].drop_duplicates().sort_values('category_id')\n",
    "category_to_id = dict(category_id_df.values)\n",
    "id_to_category = dict(category_id_df[['category_id', 'Category']].values)"
   ]
  },
  {
   "cell_type": "code",
   "execution_count": 5,
   "id": "b99635ba",
   "metadata": {
    "scrolled": false
   },
   "outputs": [
    {
     "data": {
      "text/plain": [
       "0"
      ]
     },
     "execution_count": 5,
     "metadata": {},
     "output_type": "execute_result"
    }
   ],
   "source": [
    "df.isnull().sum().sum()"
   ]
  },
  {
   "cell_type": "code",
   "execution_count": 6,
   "id": "066b8798",
   "metadata": {},
   "outputs": [
    {
     "data": {
      "image/png": "[encoded data removed]",
      "text/plain": [
       "<Figure size 576x432 with 1 Axes>"
      ]
     },
     "metadata": {
      "needs_background": "light"
     },
     "output_type": "display_data"
    }
   ],
   "source": [
    "import matplotlib.pyplot as plt\n",
    "fig = plt.figure(figsize=(8,6))\n",
    "df.groupby('Category').News_Article.count().plot.bar()\n",
    "plt.show()"
   ]
  },
  {
   "cell_type": "markdown",
   "id": "4daf71c0",
   "metadata": {},
   "source": [
    "# 2. Data preprocessing"
   ]
  },
  {
   "cell_type": "code",
   "execution_count": 7,
   "id": "e1f5486d",
   "metadata": {},
   "outputs": [],
   "source": [
    "from sklearn.feature_extraction.text import CountVectorizer, TfidfVectorizer"
   ]
  },
  {
   "cell_type": "code",
   "execution_count": 8,
   "id": "fe467311",
   "metadata": {},
   "outputs": [
    {
     "data": {
      "text/plain": [
       "(50000, 3000)"
      ]
     },
     "execution_count": 8,
     "metadata": {},
     "output_type": "execute_result"
    }
   ],
   "source": [
    "tfidf = TfidfVectorizer(sublinear_tf=True, max_features=3000, norm='l2', encoding='latin-1', ngram_range=(1, 2))\n",
    "features = tfidf.fit_transform(df.News_Article).toarray()\n",
    "labels = df.category_id\n",
    "features.shape"
   ]
  },
  {
   "cell_type": "code",
   "execution_count": 9,
   "id": "e21da3a1",
   "metadata": {
    "scrolled": false
   },
   "outputs": [
    {
     "name": "stdout",
     "output_type": "stream",
     "text": [
      "\n",
      "# 'Dünya':\n",
      "  - Most correlated unigrams:\n",
      ". ri\n",
      ". azərbaycan\n",
      ". novosti\n",
      ". hadisə\n",
      ". nəfər\n",
      "  - Most correlated bigrams:\n",
      ". həlak olub\n",
      ". trend istinadən\n",
      ". novosti yə\n",
      ". baş verib\n",
      ". ri novosti\n",
      "\n",
      "# 'Maraqlı':\n",
      "  - Most correlated unigrams:\n",
      ". şou\n",
      ". org\n",
      ". axşam\n",
      ". deyerler\n",
      ". müğənni\n",
      "  - Most correlated bigrams:\n",
      ". gettime şou\n",
      ". şou biznes\n",
      ". deyerler org\n",
      ". az axşam\n",
      ". axşam az\n",
      "\n",
      "# 'Mədəniyyət':\n",
      "  - Most correlated unigrams:\n",
      ". artisti\n",
      ". əməkdar\n",
      ". musiqi\n",
      ". teatr\n",
      ". mədəniyyət\n",
      "  - Most correlated bigrams:\n",
      ". 19 00\n",
      ". azərbaycan dövlət\n",
      ". xalq artisti\n",
      ". və turizm\n",
      ". mədəniyyət və\n",
      "\n",
      "# 'Siyasət':\n",
      "  - Most correlated unigrams:\n",
      ". atət\n",
      ". dağlıq\n",
      ". azərbaycan\n",
      ". ermənistan\n",
      ". lham\n",
      "  - Most correlated bigrams:\n",
      ". prezident lham\n",
      ". azərbaycan prezidenti\n",
      ". dağlıq qarabağ\n",
      ". prezidenti lham\n",
      ". lham əliyev\n",
      "\n",
      "# 'İdman':\n",
      "  - Most correlated unigrams:\n",
      ". qol\n",
      ". apasport\n",
      ". futbol\n",
      ". liqasının\n",
      ". çempionlar\n",
      "  - Most correlated bigrams:\n",
      ". çempionlar liqasının\n",
      ". az goal\n",
      ". baş məşqçisi\n",
      ". goal az\n",
      ". apasport az\n",
      "\n",
      "# 'İqtisadiyyat':\n",
      "  - Most correlated unigrams:\n",
      ". bank\n",
      ". neft\n",
      ". mln\n",
      ". məzənnəsi\n",
      ". manat\n",
      "  - Most correlated bigrams:\n",
      ". apa economics\n",
      ". rəsmi məzənnəsi\n",
      ". azərbaycan mərkəzi\n",
      ". təşkil edib\n",
      ". manat təşkil\n"
     ]
    }
   ],
   "source": [
    "from sklearn.feature_selection import chi2\n",
    "import numpy as np\n",
    "\n",
    "N = 5\n",
    "for Product, category_id in sorted(category_to_id.items()):\n",
    "  features_chi2 = chi2(features, labels == category_id)\n",
    "  indices = np.argsort(features_chi2[0])\n",
    "  feature_names = np.array(tfidf.get_feature_names())[indices]\n",
    "  unigrams = [v for v in feature_names if len(v.split(' ')) == 1]\n",
    "  bigrams = [v for v in feature_names if len(v.split(' ')) == 2]\n",
    "  print(\"\\n# '{}':\".format(Product))\n",
    "  print(\"  - Most correlated unigrams:\\n. {}\".format('\\n. '.join(unigrams[-N:])))\n",
    "  print(\"  - Most correlated bigrams:\\n. {}\".format('\\n. '.join(bigrams[-N:])))"
   ]
  },
  {
   "cell_type": "code",
   "execution_count": 10,
   "id": "0fd8f6f1",
   "metadata": {},
   "outputs": [
    {
     "data": {
      "text/plain": [
       "' Türkiyənin “Beşiktaş” klubu Hollandiya yığmasının futbolçusu Cermeyn Lensi transfer edib. “Report” “NTV Spor”a istinadən xəbər verir ki, İstanbul təmsilçisi 29 yaşlı hücumçu üçün İngiltərənin “Sanderlend” klubuna 5 milyon avro ödəyib.“Beşiktaş”ın əcnəbi oyunçu ilə 5 illik müqavilə bağlayacağı bildirilir.Qeyd edək ki, Cermeyn Lens ötən mövsüm icarə əsasında digər İstanbul klubu “Fənərbağça”nın formasını geyinib və iştirak etdiyi 36 matçda 4 qol vurub. O, daha əvvəl Hollandiyanın “Alkmaar”, “Niymigen”, PSV komandalarının və Kiyev “Dinamo”sunun şərəfini qoruyub. Hollandiya yığmasının heyətində 34 oyuna çıxan hücumçu 8 qola imza atıb. '"
      ]
     },
     "execution_count": 10,
     "metadata": {},
     "output_type": "execute_result"
    }
   ],
   "source": [
    "df.iloc[1342]['News_Article']"
   ]
  },
  {
   "cell_type": "code",
   "execution_count": 11,
   "id": "8e9692ae",
   "metadata": {},
   "outputs": [],
   "source": [
    "# vectorizer = TfidfVectorizer()\n",
    "# x = vectorizer.fit_transform(df['News_Article'])\n",
    "# vectorizer.get_feature_names_out()"
   ]
  },
  {
   "cell_type": "code",
   "execution_count": 12,
   "id": "b65d05c2",
   "metadata": {},
   "outputs": [],
   "source": [
    "# print(x.shape)"
   ]
  },
  {
   "cell_type": "markdown",
   "id": "83629159",
   "metadata": {},
   "source": [
    "# 3. Modeling"
   ]
  },
  {
   "cell_type": "code",
   "execution_count": 13,
   "id": "25beb6d7",
   "metadata": {},
   "outputs": [],
   "source": [
    "from sklearn.model_selection import train_test_split\n",
    "from sklearn.feature_extraction.text import CountVectorizer\n",
    "from sklearn.feature_extraction.text import TfidfTransformer\n",
    "from sklearn.naive_bayes import MultinomialNB"
   ]
  },
  {
   "cell_type": "code",
   "execution_count": 14,
   "id": "0296a2ee",
   "metadata": {},
   "outputs": [],
   "source": [
    "X_train, X_test, y_train, y_test = train_test_split(df['News_Article'], df['Category'], random_state = 0, tesX_trainX_train\n",
    "X_train_counts = count_vect.fit_transform(X_train)\n",
    "tfidf_transformer = TfidfTransformer()\n",
    "X_train_tfidf = tfidf_transformer.fit_transform(X_train_counts)"
   ]
  },
  {
   "cell_type": "code",
   "execution_count": 15,
   "id": "8c1b1e63",
   "metadata": {},
   "outputs": [],
   "source": [
    "clf = MultinomialNB().fit(X_train_tfidf, y_train)"
   ]
  },
  {
   "cell_type": "code",
   "execution_count": 16,
   "id": "39b53547",
   "metadata": {
    "scrolled": true
   },
   "outputs": [
    {
     "name": "stdout",
     "output_type": "stream",
     "text": [
      "['İdman']\n"
     ]
    }
   ],
   "source": [
    "print(clf.predict(count_vect.transform([\" Türkiyənin “Beşiktaş” klubu Hollandiya yığmasının futbolçusu Cermeyn Lensi transfer edib. “Report” “NTV Spor”a istinadən xəbər verir ki, İstanbul təmsilçisi 29 yaşlı hücumçu üçün İngiltərənin “Sanderlend” klubuna 5 milyon avro ödəyib.“Beşiktaş”ın əcnəbi oyunçu ilə 5 illik müqavilə bağlayacağı bildirilir.Qeyd edək ki, Cermeyn Lens ötən mövsüm icarə əsasında digər İstanbul klubu “Fənərbağça”nın formasını geyinib və iştirak etdiyi 36 matçda 4 qol vurub. O, daha əvvəl Hollandiyanın “Alkmaar”, “Niymigen”, PSV komandalarının və Kiyev “Dinamo”sunun şərəfini qoruyub. Hollandiya yığmasının heyətində 34 oyuna çıxan hücumçu 8 qola imza atıb.\"])))"
   ]
  },
  {
   "cell_type": "markdown",
   "id": "8cc481e5",
   "metadata": {},
   "source": [
    "#### Model Bulding"
   ]
  },
  {
   "cell_type": "code",
   "execution_count": 17,
   "id": "d8cabe28",
   "metadata": {},
   "outputs": [],
   "source": [
    "from sklearn.linear_model import LogisticRegression\n",
    "from sklearn.ensemble import RandomForestClassifier\n",
    "from sklearn.svm import LinearSVC\n",
    "from sklearn.model_selection import cross_val_score\n",
    "# from sklearn.linear_model import SGDClassifier"
   ]
  },
  {
   "cell_type": "code",
   "execution_count": 18,
   "id": "b8c1f2cc",
   "metadata": {},
   "outputs": [],
   "source": [
    "models = [\n",
    "    RandomForestClassifier(n_estimators=200, max_depth=3, random_state=0),\n",
    "    LinearSVC(),\n",
    "    MultinomialNB(),\n",
    "    LogisticRegression(random_state=0),\n",
    "]\n",
    "\n",
    "CV = 5\n",
    "cv_df = pd.DataFrame(index=range(CV * len(models)))\n",
    "entries = []\n",
    "for model in models:\n",
    "  model_name = model.__class__.__name__\n",
    "  accuracies = cross_val_score(model, features, labels, scoring='accuracy', cv=CV)\n",
    "  for fold_idx, accuracy in enumerate(accuracies):\n",
    "    entries.append((model_name, fold_idx, accuracy))\n",
    "cv_df = pd.DataFrame(entries, columns=['model_name', 'fold_idx', 'accuracy'])"
   ]
  },
  {
   "cell_type": "code",
   "execution_count": 19,
   "id": "d2479f2b",
   "metadata": {
    "scrolled": true
   },
   "outputs": [
    {
     "data": {
      "image/png": "[encoded data removed]",
      "text/plain": [
       "<Figure size 432x288 with 1 Axes>"
      ]
     },
     "metadata": {
      "needs_background": "light"
     },
     "output_type": "display_data"
    }
   ],
   "source": [
    "import seaborn as sns\n",
    "sns.boxplot(x='model_name', y='accuracy', data=cv_df)\n",
    "sns.stripplot(x='model_name', y='accuracy', data=cv_df, \n",
    "              size=8, jitter=True, edgecolor=\"gray\", linewidth=2)\n",
    "plt.show()"
   ]
  },
  {
   "cell_type": "code",
   "execution_count": 20,
   "id": "1da05f67",
   "metadata": {},
   "outputs": [
    {
     "data": {
      "text/plain": [
       "model_name\n",
       "LinearSVC                 0.82126\n",
       "LogisticRegression        0.82276\n",
       "MultinomialNB             0.77704\n",
       "RandomForestClassifier    0.43396\n",
       "Name: accuracy, dtype: float64"
      ]
     },
     "execution_count": 20,
     "metadata": {},
     "output_type": "execute_result"
    }
   ],
   "source": [
    "cv_df.groupby('model_name').accuracy.mean()"
   ]
  },
  {
   "cell_type": "code",
   "execution_count": 21,
   "id": "b25aa77c",
   "metadata": {},
   "outputs": [
    {
     "data": {
      "image/png": "[encoded data removed]",
      "text/plain": [
       "<Figure size 720x720 with 2 Axes>"
      ]
     },
     "metadata": {
      "needs_background": "light"
     },
     "output_type": "display_data"
    }
   ],
   "source": [
    "model = LogisticRegression(random_state=0)\n",
    "X_train, X_test, y_train, y_test, indices_train, indices_test = train_test_split(features, labels, df.index, test_size=0.33, random_state=0)\n",
    "model.fit(X_train, y_train)\n",
    "y_pred = model.predict(X_test)\n",
    "from sklearn.metrics import confusion_matrix\n",
    "conf_mat = confusion_matrix(y_test, y_pred)\n",
    "fig, ax = plt.subplots(figsize=(10,10))\n",
    "sns.heatmap(conf_mat, annot=True, fmt='d',\n",
    "            xticklabels=category_id_df.Category.values, yticklabels=category_id_df.Category.values)\n",
    "plt.ylabel('Actual')\n",
    "plt.xlabel('Predicted')\n",
    "plt.show()"
   ]
  },
  {
   "cell_type": "code",
   "execution_count": 22,
   "id": "c2b52381",
   "metadata": {},
   "outputs": [
    {
     "name": "stdout",
     "output_type": "stream",
     "text": [
      "              precision    recall  f1-score   support\n",
      "\n",
      "     Maraqlı       0.82      0.80      0.81      5281\n",
      "       İdman       0.90      0.91      0.91      1974\n",
      "       Dünya       0.81      0.84      0.83      4420\n",
      "     Siyasət       0.84      0.84      0.84      2210\n",
      "İqtisadiyyat       0.85      0.87      0.86      2110\n",
      "  Mədəniyyət       0.79      0.62      0.70       505\n",
      "\n",
      "    accuracy                           0.84     16500\n",
      "   macro avg       0.84      0.81      0.82     16500\n",
      "weighted avg       0.83      0.84      0.83     16500\n",
      "\n"
     ]
    }
   ],
   "source": [
    "from sklearn import metrics\n",
    "print(metrics.classification_report(y_test, y_pred, target_names=df['Category'].unique()))"
   ]
  }
 ],
 "metadata": {
  "kernelspec": {
   "display_name": "Python 3",
   "language": "python",
   "name": "python3"
  },
  "language_info": {
   "codemirror_mode": {
    "name": "ipython",
    "version": 3
   },
   "file_extension": ".py",
   "mimetype": "text/x-python",
   "name": "python",
   "nbconvert_exporter": "python",
   "pygments_lexer": "ipython3",
   "version": "3.8.10"
  }
 },
 "nbformat": 4,
 "nbformat_minor": 5
}
